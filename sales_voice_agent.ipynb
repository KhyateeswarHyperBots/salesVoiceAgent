{
 "cells": [
  {
   "cell_type": "markdown",
   "metadata": {},
   "source": "# Sales Voice Agent\n\nThis notebook provides an interactive voice agent for sales activities with calendar integration and RAG capabilities, powered by Ollama."
  },
  {
   "cell_type": "markdown",
   "metadata": {},
   "source": "## Setup and Imports"
  },
  {
   "cell_type": "code",
   "execution_count": null,
   "metadata": {},
   "outputs": [],
   "source": "import os\nimport json\nimport pyttsx3\nimport speech_recognition as sr\nimport faiss\nimport ollama\nfrom sentence_transformers import SentenceTransformer\nimport re\nimport datetime\nfrom calendar_helper import create_event\n\nDOC_PATH = \"documents.json\"\nINDEX_PATH = \"vector.index\"\nEMBEDDINGS_PATH = \"embeddings.pkl\"\nCALENDAR_PATH = \"calendar.txt\"\n"
  },
  {
   "cell_type": "markdown",
   "metadata": {},
   "source": "## RAG (Retrieval-Augmented Generation) Class"
  },
  {
   "cell_type": "code",
   "execution_count": null,
   "metadata": {},
   "outputs": [],
   "source": "class RAG:\n    def __init__(self):\n        self.model = SentenceTransformer(\"all-MiniLM-L6-v2\")\n        self.index = None\n        self.documents = []\n\n    def build_index(self, docs):\n        self.documents = docs\n        embeddings = self.model.encode(docs)\n        index = faiss.IndexFlatL2(embeddings.shape[1])\n        index.add(embeddings)\n        faiss.write_index(index, INDEX_PATH)\n        with open(EMBEDDINGS_PATH, \"wb\") as f:\n            import pickle\n            pickle.dump(docs, f)\n\n    def load_index(self):\n        self.index = faiss.read_index(INDEX_PATH)\n        with open(EMBEDDINGS_PATH, \"rb\") as f:\n            import pickle\n            self.documents = pickle.load(f)\n\n    def retrieve(self, query, top_k=3):\n        query_vec = self.model.encode([query])\n        D, I = self.index.search(query_vec, top_k)\n        return [self.documents[i] for i in I[0]]\n"
  },
  {
   "cell_type": "markdown",
   "metadata": {},
   "source": "## Voice Agent Class (Ollama-powered)"
  },
  {
   "cell_type": "code",
   "execution_count": null,
   "metadata": {},
   "outputs": [],
   "source": "class VoiceAgent:\n    def __init__(self):\n        self.rag = RAG()\n        self.model_name = \"llama3.2:3b\"\n        self.tts = pyttsx3.init()\n        self.listener = sr.Recognizer()\n\n    def listen(self):\n        with sr.Microphone() as source:\n            print(\"\ud83c\udfa4 Listening...\")\n            audio = self.listener.listen(source)\n        try:\n            text = self.listener.recognize_google(audio)\n            print(f\"\ud83d\udc42 You said: {text}\")\n            return text\n        except Exception as e:\n            print(f\"\u274c Could not understand: {e}\")\n            return \"\"\n\n    def speak(self, text):\n        print(f\"\ud83e\udd16 Assistant: {text}\")\n        self.tts.say(text)\n        self.tts.runAndWait()\n\n    def answer(self, query):\n        context = \"\\n\".join(self.rag.retrieve(query))\n        prompt = f\"Context: {context}\\n\\nQuestion: {query}\\nAnswer:\"\n        \n        try:\n            response = ollama.chat(model=self.model_name, messages=[\n                {\n                    'role': 'user',\n                    'content': prompt\n                }\n            ])\n            return response['message']['content']\n        except Exception as e:\n            print(f\"Error calling Ollama: {e}\")\n            return \"I'm sorry, I couldn't process your request right now.\"\n\n    def parse_schedule_request(self, user_input):\n        user_input_lower = user_input.lower()\n        \n        # Default values\n        event_title = \"Sales Call\"\n        duration = 30\n        start_time = datetime.datetime.now() + datetime.timedelta(hours=1)\n        \n        # Extract event title\n        if \"call\" in user_input_lower:\n            if \"demo\" in user_input_lower:\n                event_title = \"Product Demo Call\"\n            elif \"sales\" in user_input_lower:\n                event_title = \"Sales Call\"\n            elif \"meeting\" in user_input_lower:\n                event_title = \"Sales Meeting\"\n            else:\n                event_title = \"Call\"\n        \n        # Extract duration\n        duration_match = re.search(r'(\\d+)\\s*(min|minute|minutes|hour|hours)', user_input_lower)\n        if duration_match:\n            value = int(duration_match.group(1))\n            unit = duration_match.group(2)\n            if unit in ['hour', 'hours']:\n                duration = value * 60\n            else:\n                duration = value\n        \n        # Extract time information\n        time_patterns = [\n            r'tomorrow\\s+at\\s+(\\d{1,2})(?::(\\d{2}))?\\s*(am|pm)?',\n            r'today\\s+at\\s+(\\d{1,2})(?::(\\d{2}))?\\s*(am|pm)?',\n            r'(\\d{1,2})(?::(\\d{2}))?\\s*(am|pm)?',\n            r'in\\s+(\\d+)\\s*(hour|hours|minute|minutes)',\n        ]\n        \n        for pattern in time_patterns:\n            match = re.search(pattern, user_input_lower)\n            if match:\n                if 'tomorrow' in pattern:\n                    start_time = datetime.datetime.now() + datetime.timedelta(days=1)\n                    hour = int(match.group(1))\n                    minute = int(match.group(2)) if match.group(2) else 0\n                    ampm = match.group(3)\n                    if ampm == 'pm' and hour != 12:\n                        hour += 12\n                    elif ampm == 'am' and hour == 12:\n                        hour = 0\n                    start_time = start_time.replace(hour=hour, minute=minute)\n                    break\n                elif 'today' in pattern:\n                    hour = int(match.group(1))\n                    minute = int(match.group(2)) if match.group(2) else 0\n                    ampm = match.group(3)\n                    if ampm == 'pm' and hour != 12:\n                        hour += 12\n                    elif ampm == 'am' and hour == 12:\n                        hour = 0\n                    start_time = datetime.datetime.now().replace(hour=hour, minute=minute)\n                    if start_time < datetime.datetime.now():\n                        start_time += datetime.timedelta(days=1)\n                    break\n                elif 'in' in pattern:\n                    value = int(match.group(1))\n                    unit = match.group(2)\n                    if unit in ['hour', 'hours']:\n                        start_time = datetime.datetime.now() + datetime.timedelta(hours=value)\n                    else:\n                        start_time = datetime.datetime.now() + datetime.timedelta(minutes=value)\n                    break\n                else:\n                    # Just time specified, assume today\n                    hour = int(match.group(1))\n                    minute = int(match.group(2)) if match.group(2) else 0\n                    ampm = match.group(3)\n                    if ampm == 'pm' and hour != 12:\n                        hour += 12\n                    elif ampm == 'am' and hour == 12:\n                        hour = 0\n                    start_time = datetime.datetime.now().replace(hour=hour, minute=minute)\n                    if start_time < datetime.datetime.now():\n                        start_time += datetime.timedelta(days=1)\n                    break\n        \n        return event_title, start_time, duration\n\n    def schedule_event(self, user_input):\n        try:\n            event_title, start_time, duration = self.parse_schedule_request(user_input)\n            \n            # Create the calendar event\n            event_link = create_event(\n                summary=event_title,\n                start_time=start_time,\n                duration_minutes=duration,\n                description=f\"Automatically scheduled based on: {user_input}\"\n            )\n            \n            # Format time for speech\n            time_str = start_time.strftime(\"%I:%M %p on %B %d\")\n            \n            return f\"I've scheduled a {duration}-minute {event_title} for {time_str}. The event has been added to your calendar.\"\n            \n        except Exception as e:\n            print(f\"Error creating calendar event: {e}\")\n            return \"I'm sorry, I couldn't create the calendar event. Please try again.\"\n\n    def add_to_calendar(self, info):\n        with open(CALENDAR_PATH, \"a\") as f:\n            f.write(info + \"\\n\")\n\n    def process_input(self, user_input):\n        user_input_lower = user_input.lower()\n        \n        # Check for scheduling keywords\n        schedule_keywords = ['schedule', 'book', 'appointment', 'meeting', 'call', 'demo']\n        if any(keyword in user_input_lower for keyword in schedule_keywords):\n            return self.schedule_event(user_input)\n        \n        # Use RAG for general questions\n        return self.answer(user_input)\n"
  },
  {
   "cell_type": "markdown",
   "metadata": {},
   "source": "## Initialize the Voice Agent (Run this cell once to load the model)"
  },
  {
   "cell_type": "code",
   "execution_count": null,
   "metadata": {},
   "outputs": [],
   "source": "print(\"\ud83d\ude80 Initializing Sales Voice Agent with Ollama...\")\nprint(\"\ud83d\udcda Loading Llama 3.2 model (this should be fast!)...\")\n\n# Initialize the voice agent\nagent = VoiceAgent()\n\n# Test Ollama connection\ntry:\n    test_response = ollama.chat(model=agent.model_name, messages=[\n        {'role': 'user', 'content': 'Hello'}\n    ])\n    print(\"\u2705 Ollama connection successful!\")\nexcept Exception as e:\n    print(f\"\u274c Ollama connection failed: {e}\")\n    print(\"\ud83d\udca1 Make sure Ollama is running: brew services start ollama\")\n\n# Load documents if available\nif os.path.exists(DOC_PATH):\n    with open(DOC_PATH, 'r') as f:\n        documents = json.load(f)\n    \n    # Check if index exists, if not build it\n    if not os.path.exists(INDEX_PATH):\n        print(\"\ud83d\udd0d Building document index...\")\n        agent.rag.build_index(documents)\n    else:\n        print(\"\ud83d\udcd6 Loading existing document index...\")\n        agent.rag.load_index()\nelse:\n    print(\"\u26a0\ufe0f  No documents.json found. RAG features will be limited.\")\n\nprint(\"\u2705 Voice Agent initialized successfully!\")\nprint(\"\\n\ud83c\udfaf Ready to help with sales activities!\")\nprint(\"\ud83d\udca1 You can now use the following cells to interact with the agent.\")\n"
  },
  {
   "cell_type": "markdown",
   "metadata": {},
   "source": "## Voice Interaction Cell (Run this cell to start voice conversation)"
  },
  {
   "cell_type": "code",
   "execution_count": null,
   "metadata": {},
   "outputs": [],
   "source": "# Voice interaction\nprint(\"\ud83c\udfa4 Starting voice interaction...\")\nprint(\"\ud83d\udcac Say something or ask a question...\")\n\nuser_input = agent.listen()\nif user_input:\n    response = agent.process_input(user_input)\n    agent.speak(response)\nelse:\n    print(\"\u274c No speech detected. Please try again.\")\n"
  },
  {
   "cell_type": "markdown",
   "metadata": {},
   "source": "## Text Interaction Cell (Run this cell for text-based interaction)"
  },
  {
   "cell_type": "code",
   "execution_count": null,
   "metadata": {},
   "outputs": [],
   "source": "# Text interaction\nuser_input = input(\"\ud83d\udcac Enter your question or request: \")\nif user_input:\n    response = agent.process_input(user_input)\n    print(f\"\ud83e\udd16 Assistant: {response}\")\n    \n    # Optionally speak the response\n    speak_response = input(\"\ud83d\udd0a Would you like me to speak the response? (y/n): \")\n    if speak_response.lower() in ['y', 'yes']:\n        agent.speak(response)\n"
  },
  {
   "cell_type": "markdown",
   "metadata": {},
   "source": "## Schedule Event Cell (Run this cell to schedule calendar events)"
  },
  {
   "cell_type": "code",
   "execution_count": null,
   "metadata": {},
   "outputs": [],
   "source": "# Schedule an event\nprint(\"\ud83d\udcc5 Scheduling an event...\")\nprint(\"\ud83d\udcac Describe the event you want to schedule (e.g., 'Schedule a sales call tomorrow at 2pm for 30 minutes')\")\n\nuser_input = input(\"Event description: \")\nif user_input:\n    response = agent.schedule_event(user_input)\n    print(f\"\ud83e\udd16 Assistant: {response}\")\n    \n    # Optionally speak the response\n    speak_response = input(\"\ud83d\udd0a Would you like me to speak the response? (y/n): \")\n    if speak_response.lower() in ['y', 'yes']:\n        agent.speak(response)\n"
  },
  {
   "cell_type": "markdown",
   "metadata": {},
   "source": "## Quick Actions Cell (Run this cell for common sales tasks)"
  },
  {
   "cell_type": "code",
   "execution_count": null,
   "metadata": {},
   "outputs": [],
   "source": "# Quick actions menu\nprint(\"\u26a1 Quick Actions Menu:\")\nprint(\"1. Schedule a sales call\")\nprint(\"2. Schedule a product demo\")\nprint(\"3. Ask about sales strategies\")\nprint(\"4. Ask about customer data\")\nprint(\"5. Custom question\")\n\nchoice = input(\"\\nSelect an option (1-5): \")\n\nif choice == \"1\":\n    response = agent.schedule_event(\"Schedule a sales call for tomorrow at 10am for 30 minutes\")\nelif choice == \"2\":\n    response = agent.schedule_event(\"Schedule a product demo call for tomorrow at 2pm for 45 minutes\")\nelif choice == \"3\":\n    response = agent.answer(\"What are effective sales strategies for closing deals?\")\nelif choice == \"4\":\n    response = agent.answer(\"What customer information do we have available?\")\nelif choice == \"5\":\n    custom_question = input(\"Enter your question: \")\n    response = agent.process_input(custom_question)\nelse:\n    response = \"Invalid choice. Please try again.\"\n\nprint(f\"\\n\ud83e\udd16 Assistant: {response}\")\n\n# Optionally speak the response\nspeak_response = input(\"\ud83d\udd0a Would you like me to speak the response? (y/n): \")\nif speak_response.lower() in ['y', 'yes']:\n    agent.speak(response)\n"
  },
  {
   "cell_type": "markdown",
   "metadata": {},
   "source": "## System Status Cell (Run this cell to check system status)"
  },
  {
   "cell_type": "code",
   "execution_count": null,
   "metadata": {},
   "outputs": [],
   "source": "# System status\nprint(\"\ud83d\udcca System Status:\")\nprint(f\"\u2705 Voice Agent: Initialized\")\nprint(f\"\u2705 Ollama Model: {agent.model_name}\")\nprint(f\"\u2705 Text-to-Speech: Available\")\nprint(f\"\u2705 Speech Recognition: Available\")\n\n# Check Ollama connection\ntry:\n    test_response = ollama.chat(model=agent.model_name, messages=[\n        {'role': 'user', 'content': 'Test'}\n    ])\n    print(f\"\u2705 Ollama: Connected and working\")\nexcept Exception as e:\n    print(f\"\u274c Ollama: Connection failed - {e}\")\n\n# Check calendar integration\nif os.path.exists('credentials.json'):\n    print(f\"\u2705 Google Calendar: Credentials found\")\nelse:\n    print(f\"\u26a0\ufe0f  Google Calendar: No credentials.json found\")\n\n# Check documents\nif os.path.exists(DOC_PATH):\n    with open(DOC_PATH, 'r') as f:\n        documents = json.load(f)\n    print(f\"\u2705 Documents: {len(documents)} documents loaded\")\nelse:\n    print(f\"\u26a0\ufe0f  Documents: No documents.json found\")\n\n# Check contacts\nif os.path.exists('cleaned_contacts.json'):\n    with open('cleaned_contacts.json', 'r') as f:\n        contacts = json.load(f)\n    print(f\"\u2705 Contacts: {len(contacts)} contacts available\")\nelse:\n    print(f\"\u26a0\ufe0f  Contacts: No cleaned_contacts.json found\")\n\nprint(\"\\n\ud83c\udfaf Ready for sales activities!\")\n"
  }
 ],
 "metadata": {
  "kernelspec": {
   "display_name": "Python 3",
   "language": "python",
   "name": "python3"
  },
  "language_info": {
   "codemirror_mode": {
    "name": "ipython",
    "version": 3
   },
   "file_extension": ".py",
   "mimetype": "text/x-python",
   "name": "python",
   "nbconvert_exporter": "python",
   "pygments_lexer": "ipython3",
   "version": "3.8.5"
  }
 },
 "nbformat": 4,
 "nbformat_minor": 4
}